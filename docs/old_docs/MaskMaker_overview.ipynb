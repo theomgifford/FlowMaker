{
 "cells": [
  {
   "cell_type": "markdown",
   "id": "735e1d9c-743a-45d4-92d8-1177e8016d74",
   "metadata": {},
   "source": [
    "# Overview of MaskMaker\n",
    "### 01/16/23"
   ]
  },
  {
   "cell_type": "markdown",
   "id": "394cff26-3137-41f1-8d99-0ece0802ed8f",
   "metadata": {},
   "source": [
    "1. [Introduction](#1)\n",
    "2. [Overview of Documentation](#2)\n",
    "3. [Structure](#3)\n",
    "4. [Use](#4)\n",
    "5. [Component Design](#5)"
   ]
  },
  {
   "cell_type": "markdown",
   "id": "eca178a5-763a-4a19-8121-6be11402497c",
   "metadata": {
    "jp-MarkdownHeadingCollapsed": true,
    "tags": []
   },
   "source": [
    "<hr>\n",
    "\n",
    "<a id=\"1\"></a>\n",
    "\n",
    "## **1** Introduction\n",
    "\n",
    "[MaskMaker](https://github.com/KollarLab/MaskMaker) contains code for drawing our coplanar-waveguide devices, and exports that drawing as a **dxf** file. Most basic components one would want to use for a device (a straight section of coplanar waveguide, a bent section of coplanar waveguide, various couplers) have been written as classes. The user can store and access information about individual components in instances of these classes, allowing for smoother and more flexible design. In addition, MaskMaker standardizes the way components are written in code, to enable more efficient collaboration in future development. All measurements are in **microns**."
   ]
  },
  {
   "cell_type": "markdown",
   "id": "db3a18b3-9cc2-444c-9902-601fbe05bfab",
   "metadata": {
    "tags": []
   },
   "source": [
    "<hr>\n",
    "\n",
    "<a id=\"2\"></a>\n",
    "\n",
    "## **2** Documentation\n",
    "\n",
    "Each of MaskMaker's code files contains documentation with a general description of its function that specifies, for example, its `__init__` arguments or important attributes. This documentation can also usually be accessed using `help(object)`. In addition, MaskMaker contains a few documentation files and example scripts that complement the documentation in this overview.\n",
    "\n",
    "### **2.1** docs\n",
    "#### add_component_outline\n",
    "A .txt file that outlines the standardized parts of a <abbr title=\"MaskMaker\\component\">`Component`</abbr> in MaskMaker. Most new components should end up with the attributes in this outline in order to be consistent with already existing components, and to make them easy to use.\n",
    "#### add_qubit_outline\n",
    "A .txt file that outlines the process for adding a qubit (in their current state of development) to a design.\n",
    "#### ComponentDocs\n",
    "A PowerPoint presentation with diagrams of some of the more complicated components and each of their parameters.\n",
    "#### example_script_outline\n",
    "A .txt file that outlines the major sections a device drawing script will usually have. A “Quick Start” guide for MaskMaker using this script can be found in section **4.2**.\n",
    "### **2.2** example_scripts\n",
    "#### example_resonator_script\n",
    "Draws a simple \"shapetest\" chip. A feedline is generated with integrated coupling straights, and a few lines of code at the end attach straight resonators to each hanger. The ability to reference previously placed parts like this is one of the key improvements in MaskMaker.\n",
    "#### test_script_grid\n",
    "Draws each MaskMaker Component with CPW straights drawn at each of its connection junctions.\n",
    "#### test_script_mm_features\n",
    "A script that shows off a number of MaskMaker's key capabilities, including each level of defaults, and use of junctions.\n",
    "#### test_script_qubits\n",
    "A script that draws qubits on CPW straights. Qubit implementation is still a work in progress."
   ]
  },
  {
   "cell_type": "markdown",
   "id": "6f970674-f59a-4dc0-8ddc-b3fdbc5f5bc2",
   "metadata": {},
   "source": [
    "<hr>\n",
    "\n",
    "<a id=\"3\"></a>\n",
    "\n",
    "## **3** Structure\n",
    "This section is an overview of the main organizational objects in MaskMaker.\n",
    "### **3.1** Chip\n",
    "Each MaskMaker design will begin by initializing a <abbr title=\"MaskMaker\\mask\">`Chip`</abbr>, which stores the dxf objects of the drawing, the current position and direction while adding components, and the defaults for the design. As each new <abbr title=\"MaskMaker\\component\">`Component`</abbr> is initialized, it will take a `Chip` as its `structure` argument and add polylines to `Chip.drawing`. At the end of the script, `Chip` can be saved as a dxf. A simple design might look something like this:"
   ]
  },
  {
   "cell_type": "code",
   "execution_count": null,
   "id": "ff1232c1-3aaf-4a83-a1e7-a1680360a0e3",
   "metadata": {},
   "outputs": [],
   "source": [
    "my_chip = Chip(7000,start=junction((0,0),0)) # initializes the Chip\n",
    "my_bondpad = Bondpad(my_chip) # adds a few polylines for Bondpad\n",
    "CPWStraight(my_chip) # attaches a CPWStraight to that Bondpad\n",
    "my_chip.saveas('<path>') # saves the drawing to a dxf file"
   ]
  },
  {
   "cell_type": "markdown",
   "id": "b5c4ea00-b78c-4989-a76b-c3733a365c77",
   "metadata": {
    "tags": []
   },
   "source": [
    "### **3.2** junction\n",
    "\n",
    "Most components, when initialized, will need a reference position for the drawing. MaskMaker handles this using the <abbr title=\"MaskMaker\\junction\">`junction`</abbr> object, which stores a tuple of (x,y) coordinates (`junction.coords`) and a direction in degrees, with 0 along x-axis (`junction.direction`). Initializing a junction is very straightforward:"
   ]
  },
  {
   "cell_type": "code",
   "execution_count": null,
   "id": "73569195-75f8-4012-82b0-8eea06a2ec7b",
   "metadata": {
    "tags": []
   },
   "outputs": [],
   "source": [
    "my_junc = junction((0,0),90) # tuple coordinates, scalar direction"
   ]
  },
  {
   "cell_type": "markdown",
   "id": "d6f96a6c-8454-4442-bf2b-f8fd9a31adda",
   "metadata": {},
   "source": [
    "This junction can then be passed as a reference when creating objects.This junction can then be passed as a reference when creating objects. For example, this three-way coupler will be created with one of its connections at `my_junc`:"
   ]
  },
  {
   "cell_type": "code",
   "execution_count": null,
   "id": "b3177286-61e7-4f4e-a8b9-8ad64a0a2fa8",
   "metadata": {},
   "outputs": [],
   "source": [
    "my_twc = ThreeWayCoupler(my_chip,startjunc=my_junc)"
   ]
  },
  {
   "cell_type": "markdown",
   "id": "7b46a4e6-0186-40d7-bf09-6e3e11378c51",
   "metadata": {},
   "source": [
    "If no `startjunc` is specified, most components will reference `Chip.last`, which is also a junction. That way, `startjunc` does not have to be specified with every call."
   ]
  },
  {
   "cell_type": "markdown",
   "id": "c096cd2d-23d0-45af-96c4-d155fa0090ca",
   "metadata": {
    "tags": []
   },
   "source": [
    "### **3.3** Component\n",
    "\n",
    "Most of the objects in MaskMaker will inherit the superclass <abbr title=\"MaskMaker\\component\">`Component`</abbr>, and draw their designs on a `Chip`. A <abbr title=\"MaskMaker\\component\">`Component`</abbr> often takes four key arguments. Two of them we have already discussed: `structure`, which is the `Chip` it sends its Polylines to; and `startjunc`, which is a reference `junction` for its location and orientation. The other two are `settings` and `cxns_names`.\n",
    "\n",
    "#### **3.3.1** settings\n",
    "`settings` is a dictionary of parameters for the instance of whatever component is being drawn. The keys for `settings` will vary between components. However, the possible settings for any component can be accessed using:"
   ]
  },
  {
   "cell_type": "code",
   "execution_count": 1,
   "id": "220ce85d-2b91-447c-9096-6612c42a334a",
   "metadata": {},
   "outputs": [
    {
     "data": {
      "text/plain": [
       "{'pinw': 20,\n",
       " 'gapw': 8.372,\n",
       " 'launcher_pinw': 400,\n",
       " 'launcher_gapw': 167.44,\n",
       " 'taper_length': 300,\n",
       " 'launcher_padding': 167.44,\n",
       " 'bond_pad_length': 350,\n",
       " 'spec': 'auto'}"
      ]
     },
     "execution_count": 1,
     "metadata": {},
     "output_type": "execute_result"
    }
   ],
   "source": [
    "from bondpad import Bondpad\n",
    "Bondpad._defaults"
   ]
  },
  {
   "cell_type": "markdown",
   "id": "5e05757c-1d3f-4a87-a2bc-16a7107a0108",
   "metadata": {},
   "source": [
    "In addition, the a description of these settings can be accessed using:"
   ]
  },
  {
   "cell_type": "code",
   "execution_count": null,
   "id": "60b83a4f-c959-4798-a18a-50f5de0e890b",
   "metadata": {},
   "outputs": [],
   "source": [
    "help(Bondpad)"
   ]
  },
  {
   "cell_type": "markdown",
   "id": "c76a86b8-e274-4408-bace-05202466e8d1",
   "metadata": {},
   "source": [
    "Okay, brace yourself. MaskMaker actually has four levels of settings. In order of precedence:\n",
    "1. Settings passed in a dictionary as an argument of `Component.__init__`, as discussed.\n",
    "2. Chip level defaults for the component set in a dictionary at `Chip.defaults['<ComponentName>']['<default_name>']`\n",
    "3. Chip level defaults for all components set in `Chip.defaults['<default_name>']`. Acceptable keys include `'pinw'`, `'gapw'`, and `'radius'` for now.\n",
    "4. Component level defaults stored in `Component._defaults`.\n",
    "\n",
    "The first level of settings we have already discussed. Because it takes precedence, any settings in `settings` will override default settings. However, if no `settings` dictionary is passed, MaskMaker will fill in the settings according to this hierarchy. The second level are default settings that apply to all instances of a specific `Component`. For example, to make every `Bondpad` drawn on your `Chip` much too long by default, use"
   ]
  },
  {
   "cell_type": "code",
   "execution_count": null,
   "id": "332d0fa5-42c4-4955-956f-052246ec24d4",
   "metadata": {},
   "outputs": [],
   "source": [
    "Chip.defaults['Bondpad']['bond_pad_length'] = 700"
   ]
  },
  {
   "cell_type": "markdown",
   "id": "ffbabcc6-0c6a-4ff5-badf-32ada5a76929",
   "metadata": {},
   "source": [
    "The third level of defaults handles parameters that are often required to be equal across components in order to preserve continuity or cohesiveness in the device. For example, to make every bend default to a radius of 90 microns, use"
   ]
  },
  {
   "cell_type": "code",
   "execution_count": null,
   "id": "f7b49f1b-5ab6-4dd9-942c-c737a837275b",
   "metadata": {},
   "outputs": [],
   "source": [
    "Chip.defaults['radius'] = 90"
   ]
  },
  {
   "cell_type": "markdown",
   "id": "ec6ef76d-acf2-4616-afae-eb921c514b8c",
   "metadata": {
    "tags": []
   },
   "source": [
    "The fourth level of defaults is the \"last resort\" for the `Component`. Each component class has a `_defaults` attribute, which always guarantee that the `__init__` call will have values for every setting.\n",
    "\n",
    "The <abbr title=\"MaskMaker\\component\">`Component`</abbr> class is what actually handles all of these settings, and so most of the objects in MaskMaker inherit `Component`.\n",
    "\n",
    "#### **3.3.2** cxns_names and cxns\n",
    "\n",
    "`cxns_names` is a list of keys for `Component.cxns`, a dictionary that stores junctions at the component's connection points. These can then be referenced later using:"
   ]
  },
  {
   "cell_type": "code",
   "execution_count": null,
   "id": "91471bb7-215f-4009-948c-19d45d450297",
   "metadata": {},
   "outputs": [],
   "source": [
    "twc_A = my_twc.cxns['connA']"
   ]
  },
  {
   "cell_type": "markdown",
   "id": "50082b39-8533-4129-9e5c-3217d5d7009a",
   "metadata": {
    "tags": []
   },
   "source": [
    "The referenced junction can be used normally, as a `startjunc` or otherwise."
   ]
  },
  {
   "cell_type": "code",
   "execution_count": null,
   "id": "2709d3a3-243d-4911-9265-a03687fcc2db",
   "metadata": {},
   "outputs": [],
   "source": [
    "CPWStraight(my_chip,startjunc=twc_A)"
   ]
  },
  {
   "cell_type": "markdown",
   "id": "3878f38c-f4f3-4301-b4f5-9221337d6af3",
   "metadata": {},
   "source": [
    "<hr>\n",
    "\n",
    "<a id=\"4\"></a>\n",
    "\n",
    "## **4** Use\n",
    "\n",
    "This section contains all of the information needed to configure MaskMaker and use it to design a chip.\n",
    "\n",
    "### **4.1** Configuration\n",
    "\n",
    "In order to begin using MaskMaker, GitHub must be downloaded. The repository can be cloned in Git Bash using"
   ]
  },
  {
   "cell_type": "raw",
   "id": "214ce342-4e85-4e18-82d4-9b3b3b539d9e",
   "metadata": {},
   "source": [
    "$ git clone https://github.com/KollarLab/MaskMaker"
   ]
  },
  {
   "cell_type": "markdown",
   "id": "74b57cee-6a14-4536-ab90-60067cd8db8b",
   "metadata": {},
   "source": [
    "However, it is recommended to use GitHub Desktop, especially if you have less experience using Git. In GitHub Desktop, you can clone the repository by clicking dropdown menus for **Current repository-->Add-->Clone respository**. If you are opening GitHub Desktop for the first time, click **Clone a repository from the Internet**. There will then be an option to input an URL, which is of course **https://github.com/KollarLab/MaskMaker**.\n",
    "\n",
    "After MaskMaker has been cloned, run <abbr title=\"MaskMaker\\\">**config.py**</abbr> in the terminal for your Python environment. This should add MaskMaker to your Python path. In order to check that the script has executed correctly, change your working directory, and then try to import one of the MaskMaker objects:"
   ]
  },
  {
   "cell_type": "code",
   "execution_count": 2,
   "id": "87cbed49-de48-4e08-a37c-1ee8dc5596a5",
   "metadata": {},
   "outputs": [],
   "source": [
    "from bondpad import Bondpad"
   ]
  },
  {
   "cell_type": "markdown",
   "id": "e90e3e93-6ed2-4368-b1dc-41d96457ad7a",
   "metadata": {},
   "source": [
    "If it doesn't quite work, which is common on Anaconda installations, the fix is usually to run **config.py** again, and make sure that the working directory is set to **:\\GitHub\\MaskMaker**.\n",
    "\n",
    "Finally, `ezdxf` will have to be installed. This can be done via:"
   ]
  },
  {
   "cell_type": "raw",
   "id": "c5756cf0-bed9-48ad-81d0-da92954ff2c3",
   "metadata": {},
   "source": [
    "pip install ezdxf"
   ]
  },
  {
   "cell_type": "markdown",
   "id": "bcc30ac0-5618-4c5b-b7e9-28a9877388eb",
   "metadata": {},
   "source": [
    "### **4.2** General Outline for Design\n",
    "\n",
    "This section will take you through an outline that most design scripts will follow. The code used for this section is copied from <abbr title=\"MaskMaker\\docs\\\">**example_script_outline**</abbr>.\n",
    "\n",
    "First, we import all of the classes needed. <abbr title=\"MaskMaker\\mask\">`Chip`</abbr> and `junction` will almost always be imported, and the others will be imported according to the device's need."
   ]
  },
  {
   "cell_type": "code",
   "execution_count": null,
   "id": "162cd386-1ff5-447e-ae06-6d62bd704bdd",
   "metadata": {},
   "outputs": [],
   "source": [
    "from mask import Chip, ChipBorder\n",
    "from junction import junction\n",
    "\n",
    "from bondpad import Bondpad\n",
    "from couplers.coupling_tee import CouplingStraight\n",
    "from couplers.finger_cap import FingerCap\n",
    "from couplers.gap_cap import GapCap\n",
    "from cpw.CPWStraight import CPWStraight"
   ]
  },
  {
   "cell_type": "markdown",
   "id": "8f00f790-b492-47df-b18a-38bc55d44649",
   "metadata": {},
   "source": [
    "Then, we will set the default settings for the design, which will eventually stored in `chip.defaults`. If we want to change `'pinw'`,`'gapw'`, or `'radius'` for *every* component in the device, we can do it here:"
   ]
  },
  {
   "cell_type": "code",
   "execution_count": 10,
   "id": "fbd86f33-3a19-4466-9e62-6e95c12f5d03",
   "metadata": {},
   "outputs": [],
   "source": [
    "defaults = {}\n",
    "defaults['pinw'] = 20\n",
    "defaults['gapw'] = 8.372\n",
    "defaults['radius'] = 100"
   ]
  },
  {
   "cell_type": "markdown",
   "id": "349f5e8f-8efa-4957-b9c4-56e64b5bcb83",
   "metadata": {},
   "source": [
    "Then we can set the default settings for specific components."
   ]
  },
  {
   "cell_type": "code",
   "execution_count": null,
   "id": "63407139-c9aa-4288-afde-cfc2bf7fff40",
   "metadata": {},
   "outputs": [],
   "source": [
    "defaults['Bondpad'] = {} # set bondpad defaults\n",
    "defaults['Bondpad']['taper_length'] = 400\n",
    "...\n",
    "defaults['Bondpad']['bond_pad_length'] = 350\n",
    "\n",
    "defaults['GapCap'] = {} # set gapcap defaults\n",
    "...\n",
    "defaults['FingerCap'] = {} # set fingercap defaults"
   ]
  },
  {
   "cell_type": "markdown",
   "id": "eaee86e1-1769-481e-941d-2c5cb975d118",
   "metadata": {},
   "source": [
    "All of the defaults are now stored in this nested dictionary `defaults`. Now we can initialize the `Chip` for our device, and set its `defaults`."
   ]
  },
  {
   "cell_type": "markdown",
   "id": "cad6aee7-0d8e-43a4-9ccf-ac9ec3506dca",
   "metadata": {},
   "source": [
    "chip = Chip(7000)\n",
    "chip.defaults = defaults\n",
    "ChipBorder(chip) # draws a chip border"
   ]
  },
  {
   "cell_type": "markdown",
   "id": "a7c7de6f-7274-419e-b256-bc4ea81d0cfa",
   "metadata": {},
   "source": [
    "Once the `Chip` is initialized, we can start to draw components. We didn't specify `start` for our `Chip`, so it will default to `junction((0,0),0)`. In order to start somewhere else, we create a new junction `startjunc1` (see documentation for <abbr title=\"MaskMaker\\bondpad\">`Bondpad`</abbr>)."
   ]
  },
  {
   "cell_type": "code",
   "execution_count": null,
   "id": "95ed5878-cc20-43d8-91d5-3193331065cf",
   "metadata": {},
   "outputs": [],
   "source": [
    "startjunc1 = junction((1000,1000),0) # tuple coords, scalar direction\n",
    "bondpad1 = Bondpad(chip, startjunc = startjunc1)\n",
    "CPWStraight(chip,settings = {'length':200})\n",
    "...\n",
    "threewaycap1 = ThreeWayCoupler(chip)\n",
    "...\n",
    "bondpad2 = Bondpad(chip, settings = {'bond_pad_length':700})"
   ]
  },
  {
   "cell_type": "markdown",
   "id": "6db1aaa0-5b49-4074-afcb-f6f52437c419",
   "metadata": {},
   "source": [
    "Note that it is not necessary to specify every setting for each call, only the settings that differ from default settings. As described earlier, we can connect to stored components using the `.cxns` attribute."
   ]
  },
  {
   "cell_type": "code",
   "execution_count": null,
   "id": "413fcc7c-5c2a-4fc9-8e40-9cb9eb6f6db2",
   "metadata": {},
   "outputs": [],
   "source": [
    "startjunc3 = threewaycap1.cxns['connC']\n",
    "CPWStraight(chip,startjunc=startjunc3,settings = {'length':300})"
   ]
  },
  {
   "cell_type": "markdown",
   "id": "58d1d325-984f-46f4-87cb-7d75910a6645",
   "metadata": {},
   "source": [
    "Finally, we save the drawing to a dxf file."
   ]
  },
  {
   "cell_type": "code",
   "execution_count": null,
   "id": "50af04ca-24f7-4817-a8f1-535bcf34bda7",
   "metadata": {},
   "outputs": [],
   "source": [
    "saveDir = r'Z:\\Users\\Theo\\CAD'\n",
    "filename = 'my_chip.dxf'\n",
    "chip.saveas(os.path.join(saveDir,filename))"
   ]
  },
  {
   "cell_type": "markdown",
   "id": "cce23b0c-e991-4421-a184-aba3e2c7a686",
   "metadata": {},
   "source": [
    "### **4.3** Qubit Pockets and Paddles\n",
    "\n",
    "The implementation of qubits is still in development. At the moment, MaskMaker has the capability to draw trapezoidal qubit pockets and one type of digitated qubit paddles. It cannot draw any of the E-beam layers. For an outline of a script that implements qubits, see <abbr title=\"MaskMaker\\docs\\\">**add_qubit_outline**</abbr>.\n",
    "\n",
    "MaskMaker contains three potentially useful qubit classes: <abbr title=\"MaskMaker\\qubits\\notch\">`QubitNotchFromJunc`</abbr> draws a simple trapezoidal pocket. <abbr title=\"MaskMaker\\qubits\\digitated_qubit\">`DigitatedQubit`</abbr> draws a digitated qubit design with a cutout on one end for the qubit write, and then calls `QubitNotchFromJunc` to create a pocket around it. However, the most important qubit class is <abbr title=\"MaskMaker\\qubits\\custom_qubit\">`CustomQubit`</abbr>. This allows the user to import a qubit from a dxf file and package it inside of a `QubitNotchFromJunc`. For an example of its usage, see <abbr title=\"MaskMaker\\example_scripts\\\">**test_script_custom_qubits**</abbr>.\n",
    "\n",
    "Currently, qubits are added to CPW elements by specifying a reference junction at a connection point of the CPW element. As seen in <abbr title=\"MaskMaker\\docs\\\">**ComponentDocs**</abbr>, the qubit notch is drawn behind the reference junction, so that passing a connection junction of a `CPWStraight` draws the notch on that straight.\n",
    "\n",
    "### **4.4** Importing DXF Files\n",
    "\n",
    "MaskMaker also has the capability to import any DXF file onto a <abbr title=\"MaskMaker\\mask\">`Chip`</abbr>, using the class <attr title=\"MaskMaker\\import_dxf\">`ImportedDXF`</attr>. The imported DXF can be scaled/reflected, translated, or rotated. The call is quite straightforward, and functions like any other <abbr title=\"MaskMaker\\component\">`Component`</abbr>."
   ]
  },
  {
   "cell_type": "code",
   "execution_count": 2,
   "id": "e8693f3c-fd23-4612-9c8b-00126d807aff",
   "metadata": {},
   "outputs": [
    {
     "data": {
      "text/plain": [
       "{'xscale': 1, 'yscale': 1, 'offset': (0, 0), 'rotation': 0, 'dxf_path': None}"
      ]
     },
     "execution_count": 2,
     "metadata": {},
     "output_type": "execute_result"
    }
   ],
   "source": [
    "ImportedDXF(chip,settings={'dxf_path':my_dxf_path,'offset':(1000,1000),'xscale':10,'yscale':10,'rotation':-30})\n",
    "ImportedDXF._defaults"
   ]
  },
  {
   "cell_type": "markdown",
   "id": "48c55e85-57dc-4c73-8c3f-4ef2c27683db",
   "metadata": {},
   "source": [
    "Examples of `ImportedDXF` are showcased in <abbr title=\"MaskMaker\\example_scripts\\\">**test_script_custom_qubits**</abbr>.\n",
    "\n",
    "### **4.5** Miscellaneous\n",
    "\n",
    "These functions are not strictly necessary to MaskMaker, but are convenient and often helpful. They have all been grandfathered in from previous versions of MaskMaker.\n",
    "\n",
    "#### <abbr title=\"MaskMaker\\\">alphanum</abbr>\n",
    "\n",
    "Contains functions for drawing polyline letters. Often useful for labelling masks and chips.\n",
    "\n",
    "#### <abbr title=\"MaskMaker\\\">pt_operations</abbr>\n",
    "\n",
    "A number of operations on tuple (x,y) points. Often used when designing a new component using polylines, instead of existing CPW components."
   ]
  },
  {
   "cell_type": "markdown",
   "id": "1c28ed90-61d5-4d65-a27c-43bbd3c88257",
   "metadata": {},
   "source": [
    "<hr>\n",
    "\n",
    "<a id=\"5\"></a>\n",
    "\n",
    "## **5** New Component Design\n",
    "\n",
    "Although the previous sections should give a working understanding for using existing components, they does not encapsulate all that one needs to know to design and add components. This section will be a step-by-step walkthrough for writing a <abbr title=\"MaskMaker\\component\">`Component`</abbr>, and is essentially a better enunciated version of <abbr title=\"MaskMaker\\docs\\\">**add_component_outline**</abbr>.\n",
    "\n",
    "Each `Component` is stored within its own file, for the most part. At the top of the file there are a number of imports usually necessary:"
   ]
  },
  {
   "cell_type": "code",
   "execution_count": null,
   "id": "cd51cf12-09ec-42b8-9a9a-d8ef7081c513",
   "metadata": {},
   "outputs": [],
   "source": [
    "from pt_operations import rotate_pt, rotate_pts\n",
    "from junction import junction\n",
    "from component import Component"
   ]
  },
  {
   "cell_type": "markdown",
   "id": "2472707e-d0c2-477a-9bdc-070a4b6d5c3d",
   "metadata": {},
   "source": [
    "Then, inherit `Component` and specifiy the component name. This will also be the key used to store Chip level defaults for this new component (`Chip.defaults['<ComponentName>']['<default_name>']`). Under the class definition should be a block comment with a short description of the component and each of its settings. We do this so that `help(MyComponent)` works correctly."
   ]
  },
  {
   "cell_type": "code",
   "execution_count": null,
   "id": "d1c41f74-f2da-4105-9ac3-e12cf634c4c6",
   "metadata": {},
   "outputs": [],
   "source": [
    "class ComponentName(Component):\n",
    "    \"\"\"\n",
    "    \n",
    "    << description of component and settings >>\n",
    "    \n",
    "    \"\"\""
   ]
  },
  {
   "cell_type": "markdown",
   "id": "fb8404e7-226a-40b1-83e1-9386de1ab36c",
   "metadata": {},
   "source": [
    "Under this, we need to fully specify the `_defaults` dictionary. Every setting must have a value in `_defaults` so that the component can always be drawn."
   ]
  },
  {
   "cell_type": "code",
   "execution_count": null,
   "id": "e510eb7e-26c0-4bcc-97d0-9acd83d396fc",
   "metadata": {},
   "outputs": [],
   "source": [
    "    _defaults = {}\n",
    "    _defaults['key1'] = val1\n",
    "    _defaults['key2'] = val2\n",
    "    ..."
   ]
  },
  {
   "cell_type": "markdown",
   "id": "3d5e869d-272f-42d7-b675-4cf536a96ddd",
   "metadata": {},
   "source": [
    "Then, we initalize the component. For most components, this will be the only method. The `__init__` call should only have five arguments: `self`, `structure`, `startjunc`, `settings` and `cxns_names`. `structure` should be required, `startjunc` should default to `None`, and `settings` should default to `{}`."
   ]
  },
  {
   "cell_type": "code",
   "execution_count": null,
   "id": "788b4a5e-2b64-47ed-8a3e-51d35845eaf1",
   "metadata": {},
   "outputs": [],
   "source": [
    "    def __init__(self, structure,startjunc=None, settings = {}, cxns_names=['cxn1name','cxn2name']):\n",
    "        \n",
    "        s=structure"
   ]
  },
  {
   "cell_type": "markdown",
   "id": "e6ad402e-9c1c-4c85-8c9f-aa1b47686bbf",
   "metadata": {},
   "source": [
    "Now, we will handle the `Component.__init__()` call. This block almost always looks like:"
   ]
  },
  {
   "cell_type": "code",
   "execution_count": null,
   "id": "69b43f3f-8b84-4b04-afed-785f594abd45",
   "metadata": {},
   "outputs": [],
   "source": [
    "        comp_key = 'ComponentName'\n",
    "        global_keys = ['pinw','gapw']\n",
    "        object_keys = ['cxn_pinw','cxn_gapw']\n",
    "        Component.__init__(self,s,comp_key,global_keys,object_keys,settings)\n",
    "        settings = self.settings"
   ]
  },
  {
   "cell_type": "markdown",
   "id": "c2a8d6b3-1980-4c3d-8256-922c5bd08737",
   "metadata": {},
   "source": [
    "The names `comp_key`, `global_keys`, and `object_keys` are unfortunately confusing, but it is import to understand what each of them are. `Component.__init__()` essentially needs to know three things:\n",
    "1. Where to look for the `Chip` level defaults for each instance of this component. It tries the key `comp_key` in `Chip.defaults`.\n",
    "2. What global defaults (`pinw`,`gapw`,`radius`) are relevant to this design.\n",
    "3. What component settings are to be replaced by the global defaults.\n",
    "\n",
    "In order to explain what I mean by those last two, it is probably easiest to just copy and paste the code from `Component` that handles this:"
   ]
  },
  {
   "cell_type": "code",
   "execution_count": null,
   "id": "e2485d15-e3e7-45b2-922a-34d3c4106467",
   "metadata": {},
   "outputs": [],
   "source": [
    "global_defaults = {}\n",
    "for n in range(len(global_keys)):\n",
    "    if global_keys[n] in s.defaults: # s is a Chip\n",
    "        global_defaults[object_keys[n]] = s.defaults[global_keys[n]]"
   ]
  },
  {
   "cell_type": "markdown",
   "id": "f78a9863-bc5c-4f9e-9f58-cbce5319027b",
   "metadata": {},
   "source": [
    "`global_keys` and `object_keys` must be the same length. Our dummy component has settings `cxn_pinw` and `cxn_gapw` that will be replaced by the global `pinw` and `gapw`. I added `cxn_` in front of the setting names to emphasize that this type of default is normally used to ensure the coplanar waveguides in the device are always continuous where different components connect.\n",
    "\n",
    "We can almost begin drawing the component. First, we have to handle `startjunc`. If the user doesn't specify one, we access `Chip.last`. Otherwise, we set `Chip.last` to the `startjunc`. It's preferable to use `.copyjunc()` when setting junctions equal to one another because it creates a new instance of <abbr title=\"MaskMaker\\junction\">`junction`</abbr>."
   ]
  },
  {
   "cell_type": "code",
   "execution_count": null,
   "id": "4bc5e2dc-1796-4c81-91a3-d3d3d45a0b03",
   "metadata": {},
   "outputs": [],
   "source": [
    "        if startjunc is None:\n",
    "            startjunc = s.last.copyjunc()\n",
    "        else:\n",
    "            s.last = startjunc.copyjunc()"
   ]
  },
  {
   "cell_type": "markdown",
   "id": "1ca1620b-99b1-4280-b13b-f32a88ecf65b",
   "metadata": {},
   "source": [
    "We can draw using two methods. First, we can directly draw polylines using `Chip.drawing.add_lwpolyline(pts)`. The simple CPW components (<abbr title=\"MaskMaker\\cpw\\CPWStraight\">`CPWStraight`</abbr>,<abbr title=\"MaskMaker\\cpw\\CPWLinearTaper\">`CPWLinearTaper`</abbr>) use this method, and can be used as a reference."
   ]
  },
  {
   "cell_type": "code",
   "execution_count": null,
   "id": "521dc023-5afe-4906-8a86-c606c38188fe",
   "metadata": {},
   "outputs": [],
   "source": [
    "        pts = [(x1,y1),(x2,y2),(x3,y3),(x4,y4)]    \n",
    "        pts=rotate_pts(pts,startjunc.direction,startjunc.coords)\n",
    "        s.drawing.add_lwpolyline(pts)"
   ]
  },
  {
   "cell_type": "markdown",
   "id": "8428ada2-0b96-47b9-9ff8-304ea8f77ada",
   "metadata": {},
   "source": [
    "Note a couple of things:\n",
    "1. `pts` is a list of tuple coordinates that are connected together in the order of the list. Fairly straightforward. Don't forget to add the first point again for a closed loop.\n",
    "2. Often, we can specify `pts` as if the component was anchored as (0,0) and not tilted. Then, we can make a call to <abbr title=\"MaskMaker\\pt_operations\">`rotate_pts`</abbr> or <abbr title=\"MaskMaker\\pt_operations\">`orient_pts`</abbr> in order to adjust for the actual position and orientation of the component.\n",
    "\n",
    "We can also use existing CPW components. This can be used to make simple components, as in `TaperedCap`, but also more complex components, as in `ThreeWayCoupler`."
   ]
  },
  {
   "cell_type": "code",
   "execution_count": null,
   "id": "2ae76c2d-7b2b-4cbb-a061-acf2130b7b7f",
   "metadata": {},
   "outputs": [],
   "source": [
    "        CPWStraight(s,settings = {'length':300,\n",
    "                                  'pinw':20,\n",
    "                                  'gapw':8.372\n",
    "                                  })\n",
    "        CPWLinearTaper(s, settings = {'length': 300,\n",
    "                                      'stop_pinw': 2*20,\n",
    "                                      'stop_gapw': 2*8.372\n",
    "                                      })"
   ]
  },
  {
   "cell_type": "markdown",
   "id": "22e7d18e-cd46-4a56-869b-f5d6a194eed6",
   "metadata": {},
   "source": [
    "Often this can be a bit less of a headache, because there is no need to do the extra `orient_pts` as you often must with polylines. For a good example of a component that combines both approaches to drawing, see `FingeredCap`.\n",
    "\n",
    "Then, we set the correct position for `Chip.last`, in case it is different from where we ended up after drawing, and set the correct <abbr title=\"MaskMaker\\junction\">`junction`</abbr> for each of the connections in `.cxns`."
   ]
  },
  {
   "cell_type": "code",
   "execution_count": null,
   "id": "86aaa5d2-e2fb-40aa-93b5-fc6a86f48b04",
   "metadata": {},
   "outputs": [],
   "source": [
    "        stopjunc = <junction>\n",
    "        s.last = stopjunc\n",
    "\n",
    "        self.cxns = {cxns_names[0]:startjunc.reverse(), cxns_names[1]:stopjunc}"
   ]
  },
  {
   "cell_type": "markdown",
   "id": "c27fdd3f-9b29-436b-bcea-c4113a327cb8",
   "metadata": {},
   "source": [
    "With that, our `Component` is now complete! To summarize, here is a checklist of requirements for a `Component`, in order for it to be compatible with MaskMaker:\n",
    "- Required arguments: `structure, startjunc=None, settings={}, cxns_names=['cxn1name','cxn2name']`\n",
    "- Fully specify \"last-resort\" default settings in `._defaults`\n",
    "- `Component.__init__()` block, with `comp_key`, `global_keys`, and `object_keys`\n",
    "- `startjunc` block, which determines behavior when `startjunc` is and isn't passed\n",
    "- Set `Chip.last` so that design can continue\n",
    "- Set `.cxns` with keys `cxns_names` and values that are `junctions` at each of the object's connection points"
   ]
  }
 ],
 "metadata": {
  "kernelspec": {
   "display_name": "Python 3 (ipykernel)",
   "language": "python",
   "name": "python3"
  },
  "language_info": {
   "codemirror_mode": {
    "name": "ipython",
    "version": 3
   },
   "file_extension": ".py",
   "mimetype": "text/x-python",
   "name": "python",
   "nbconvert_exporter": "python",
   "pygments_lexer": "ipython3",
   "version": "3.9.12"
  }
 },
 "nbformat": 4,
 "nbformat_minor": 5
}
